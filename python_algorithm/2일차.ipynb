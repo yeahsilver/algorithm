{
 "cells": [
  {
   "cell_type": "markdown",
   "id": "c7f310f4",
   "metadata": {},
   "source": [
    "## 2일차 - Python 심화 특강"
   ]
  },
  {
   "cell_type": "markdown",
   "id": "b022bf93",
   "metadata": {},
   "source": [
    "### 정렬\n",
    "- 기본 정렬: 일반적으로 생각하기 쉬운 정렬\n",
    "    - 선택 정렬\n",
    "    - 삽입 정렬\n",
    "    - 버블 정렬\n",
    "    \n",
    "- 고급 정렬:알고리즘 상에 존재하는 정렬\n",
    "    - 힙 정렬\n",
    "    - 합병 정렬\n",
    "    - 퀵 정렬"
   ]
  },
  {
   "cell_type": "markdown",
   "id": "de1b8a54",
   "metadata": {},
   "source": [
    "### 선택 정렬\n",
    "> 배열에 아직 정렬되지 않은 부분의 원소들 중에 최솟값을 선택하여 정렬된 부분의 바로 오른 쪽 원소와 교환하는 정렬 알고리즘\n",
    "\n",
    "#### 선택졍렬의 특징\n",
    "- 입력에 민감하지 않음\n",
    "    - 항상 O(N^2) 수행 시간이 소요\n",
    "- 최솟값을 찾은 후 원소를 교환하는 횟수가 N-1\n",
    "    - 이는 정렬 알고리즘들 중에서 가장 작은 최악의 경우의 교환 횟수"
   ]
  },
  {
   "cell_type": "markdown",
   "id": "b84ff0a9",
   "metadata": {},
   "source": [
    "### 삽입 정렬\n",
    "> 배열이 정렬된 부분과 정렬되지 않은 부분으로 나뉘며, 정렬이 되지 않은 부분의 가장 왼쪽 원소를 정렬된 부분에 삽입하는 방식의 정렬 알고리즘\n",
    "ex) 게임에서 캐릭터간 거리를 계산할 때 삽입 정렬을 사용\n",
    "\n",
    "#### 삽입 정렬의 특징\n",
    "- 입력에 민감함\n",
    "    - 최선의 경우 O(N)\n",
    "    - 거의 정렬이 이루어진 입력인 경우 유용 -> 최선의 경우 사용. 그래서 왠만한 고급 정렬과 비슷한 성능을 보여줌\n",
    "    - 정렬이 이미 이루어진 리스트에 데이터가 추가되는 경우 유용\n",
    "    - 끼워넣는 방식 --> 링크드 리스트상에서도 구현 가능 (이유: 링크드 리스트는 삽입에 용이하기 때문)\n",
    "    \n",
    "- 고급 정렬의 부분 소규모 정렬에 이용\n",
    "    - 입력 크기가 작은 경우에도 좋은 성능 (약 20개 이하일 경우)\n",
    "    - 간단한 알고리즘"
   ]
  },
  {
   "cell_type": "markdown",
   "id": "24df6526",
   "metadata": {},
   "source": [
    "### 버블 정렬\n",
    "- 선택 정렬과 마찬가지로 가장 큰 원소를 오른쪽으로 옮기는 작업을 반복\n",
    "    - 왼쪽부터 이웃한 수와 비교\n",
    "    - 이웃한 수가 작은 경우 두 수를 교환한다\n",
    "    - 마지막 작업까지 마쳐지면 N을 줄여 반복한다.\n",
    "    \n",
    "#### 버블 정렬의 특징\n",
    "- 입력에 민감함\n",
    "    - 최선의 경우 O(N) 수행 시간 소요\n",
    "    - 데이터 변경 감시가 있는경우 한함\n",
    "- 데이터 이동 속도가 느려서 효율이 떨어짐\n",
    "    - 새로 데이터가 추가된 경우 이동거리가 멀면 여러 번 반복"
   ]
  },
  {
   "cell_type": "markdown",
   "id": "05831abf",
   "metadata": {},
   "source": [
    "--------\n",
    "\n",
    "### 분할 정복 알고리즘\n",
    "- 주어진 문제의 입력을 분할하여 문제를 해결하는 방식\n",
    "    - 분할한 입력에 대하여 동일한 알고리즘을 적용하여 해를 계산\n",
    "    - 이들의 해를 취합하여 원래 문제의 해를 얻음\n",
    "    \n",
    "- 부분 문제와 부분 해\n",
    "    - 분할된 입력에 대한 문제를 부분문제 (subproblem) 라고 함\n",
    "    - 부분 문제의 해를 부분해라고 함\n",
    "    - 부분 문제는 더 이상 분할할 수 없을 때까지 계속 분할\n",
    "\n",
    "sum ([...c...])와 sum([:c]) + sum([c:]) => 시간 복잡도 효율은 같다\n",
    "\n",
    "- T(n) = 2T(n/2) + 1\n",
    "\n",
    "- (좌변) = n-1 (우변) 2(n/2-1) + 1 = n-1\n",
    "- T(n) = n-1\n",
    "\n",
    "#### 분할 정복 알고리즘 분류\n",
    "- 분할 정보 알고리즘은 분할되는 부분 문제의 수와 부분 문제의 크기에 따라서 다음과 같이 분류\n",
    "- 문제가 a개로 분할 되고, 부분 문제의 크기가 1/b로 감소하는 알고리즘\n",
    "    - a=b=2인 경우: 합병 정렬, 최근접 점의 쌍 찾기, 공제선 문제\n",
    "    - a=3, b=2인 경우: 큰 정수 곱셈 (a*a)\n",
    "    - a=4, b=2인 경우: 큰 정수 곱셈 (a*b)\n",
    "    - a=7,b=2인 경우: 스트라센의 행렬 곱셈 알고리즘"
   ]
  },
  {
   "cell_type": "markdown",
   "id": "6a7dbe2d",
   "metadata": {},
   "source": [
    "### 합병 정렬\n",
    "- 합병 정렬은 입력의 크기가 1/2로 줄고, 문제가 2개로 나누어지는 대표적인 분할 정복 알고리즘\n",
    "    - 1 7 2 4 6 5 3 9 --> 1 7 2 4와 6 5 3 9 문제로 나눔\n",
    "    - 적절한 정렬 과정을 통하여 각각의 문제 해결\n",
    "- 합병 과정을 통해서 정렬이 완료된 두개의 결과를 이용하여 한 개의 정렬된 결과 도출\n",
    "    - 1 2 4 7 자료와 3 5 6 9 문제를 병합 --> 1 2 3 4  5 6 7 9\n",
    "\n",
    "#### 합병 시간 복잡도\n",
    "- 두개의 자료(m개의 정렬된 자료, n개의 정렬된 자료)를 병합하는 과정\n",
    "    - 가장 작은 값끼리 비교하여 작은 값을 선택해서 데이터 저장\n",
    "    - 위 과정을 최대 m+n-1번 반복하면 정렬된 데이터를 얻음\n",
    "    - O(m+n)\n",
    "- 입력이 n인 데이터를 합병 정렬로 정렬하는 시간을 T(n)이라고 했을 때,\n",
    "    - 분할된 입력을 정렬하는 시간 T(n/2)\n",
    "    - n/2로 분할된 두 데이터를 합병하는데 걸리는 시간: O(n)\n",
    "    - T(n) = 2T(n/2) + O(N)\n",
    "    - 결과: T(n) = O(n log n)\n",
    " \n",
    "#### 합병 정렬의 특징\n",
    "- 벙렬 처리에 적용 가능 -> 멀티 프로세스나 분산처리에 유용\n",
    "- 외부 정렬로 사용 가능 -> 대규모 데이터 정렬\n",
    "- 자료 구조가 연결 리스트인 경우에도 사용 가능\n",
    "- 정적 정렬(static sort) 가능\n",
    "- 공간 복잡도가 O(n)으로 다른 고급 정렬 O(1)에 비해 추가 공간 필요"
   ]
  },
  {
   "cell_type": "markdown",
   "id": "495f0928",
   "metadata": {},
   "source": [
    "### 퀵 정렬\n",
    "- 기준 원소를 기준으로 데이터를 두 부분으로 나눈 다음 각각의 부분을 정렬하는 분할 정복 알고리즘을 적용하는 정렬\n",
    "    - 1 7 2 4 5 3 6 -> 6을 기준으로 1 2 4 5 3 [6] 7 9로 나눔\n",
    "    - 각각의 부분을 정렬 -< 1 2 3 4 5 [6] 7 9 (정렬 완료)\n",
    "    \n",
    "#### 시간 복잡도\n",
    "- 입력이 n인 데이터를 퀵 정렬로 정렬하는 시간을 T(n)이라고 했을 때\n",
    "    - 기준 원소를 기준으로 두 부분으로 나누는 시간 복잡도가 O(n)\n",
    "    - 분할된 영력의 평균 크기가 n/2라 할 떄, 분할된 입력을 정렬하는 시간은 T(n/2)\n",
    "    - T(n) = 2T(n/2) + O(n)\n",
    "    - 결과: T(n) = O(n log n)\n",
    "    - 분할된 영역이 한쪽으로 치우치게 되면, T(n) = O(n^2)\n",
    "    \n",
    "#### 퀵 정렬의 특징\n",
    "- 캐시 효율과 일부 비재귀 처리로 평균 속도가 가잔 빠름\n",
    "- 기준 원소 선택에 따라 정렬 효율이 달라짐 (개선 방법 3-pivot 등)"
   ]
  },
  {
   "cell_type": "markdown",
   "id": "63f911f0",
   "metadata": {},
   "source": [
    "### 힙 정렬\n",
    "- 힙 자료구조를 이용한 정렬 방법\n",
    "    - 데이터에 대한 힙 만들기\n",
    "    - 최소(또는 최대)값을 제거하여 데이터 모으기\n",
    "- 힙 자료구조\n",
    "    - 꽉 찬 이진 트리 (leaf 제외 원소가 양쪽으로 있는 경우)\n",
    "    - 각 노드에 값이 저장\n",
    "    - 부모의 노드 값이 자식의 노드 값보다 항상 작은 값\n",
    "\n",
    "#### 힙의 리스트 표현법\n",
    "- 꽉 찬 이진 트리로 각각의 노드값이 리스트 값으로 표현됨\n",
    "- 부모 노드의 왼쪽 자식은 (부모 노드 번호 *2) 오른쪽 자식은 (부모 노드 번호 * 2) + 1 (최상단 노드의 번호가 1일 경우)\n",
    "    - 해당의 것을 통해 인덱스로 어떤 노드의 자식인지 파악할 수 있음\n",
    "\n",
    "\n",
    "#### 시간 복잡도\n",
    "- 입력이 n인 데이터를 힙 정렬로 정렬하는 시간을 T(n)이라고 했을 때, \n",
    "    - 힙을 만드는 시간 복잡도 O(n)\n",
    "    - 최소(최대) 값을 가져오는 시간 복잡도 O(log*n) *은 log보다 짧은 시간을 나타냄\n",
    "    - 최소(최대) 값을 가져오는 횟수 n-1\n",
    "    - 결과: T(n) = O(nlog*n) (log*는 로그를 1번 이상 사용하여 표현할 수 있음을 나타냄)\n",
    "\n",
    "#### 힙 정렬의 특징\n",
    "- 이론적으로 가장 빠른 시간 복잡도 O(n log*n)\n",
    "- 캐시 효율이 나쁨"
   ]
  },
  {
   "cell_type": "markdown",
   "id": "87e083e1",
   "metadata": {},
   "source": [
    "### 정렬 실습"
   ]
  },
  {
   "cell_type": "code",
   "execution_count": 12,
   "id": "2e1b44b7",
   "metadata": {},
   "outputs": [
    {
     "name": "stdout",
     "output_type": "stream",
     "text": [
      "n의 값을 입력: 50\n",
      "경과시간: 0ms\n"
     ]
    }
   ],
   "source": [
    "import time\n",
    "import random\n",
    "\n",
    "def _selectionSort(v, a, b):\n",
    "    for i in range(a, b):\n",
    "        min = i\n",
    "        for j in range(i+1, b+1):\n",
    "            if  v[min] > v[j]: min = j\n",
    "        v[i], v[min] = v[min], v[i]\n",
    "\n",
    "def selectionSort(v):\n",
    "    _selectionSort(v, 0, len(v)-1)\n",
    "    \n",
    "def _mergeSort(v, a, b):\n",
    "    \n",
    "    if a == b : return # 재귀함수 탈출 조건\n",
    "    \n",
    "    c = (a+b)//2\n",
    "    \n",
    "    # 첫번째 방법 - 비재귀 함수\n",
    "    # _selectionSort(v, a, c)\n",
    "    # _selectionSort(v, c+1, b)\n",
    "    \n",
    "    #두번째 방법 - 재귀 함수\n",
    "    _mergeSort(v, a, c)\n",
    "    _mergeSort(v, c+1, b)\n",
    "    \n",
    "    t = []\n",
    "    i, j = a, c+1\n",
    "    \n",
    "    while i <= c and j <= b: \n",
    "        if v[i] <= v[j]: # 정적 정렬이기에 <=가 들어가야함. 아니면 정적 정렬이 깨짐\n",
    "            t.append(v[i])\n",
    "            i += 1\n",
    "        else:\n",
    "            t.append(v[j])\n",
    "            j += 1\n",
    "    \n",
    "    while i <= c: \n",
    "        t.append(v[i])\n",
    "        i += 1\n",
    "        \n",
    "    while j <= b:\n",
    "        t.append(v[j])\n",
    "        j += 1\n",
    "       \n",
    "    for k in range(len(t)):\n",
    "        v[a+k] = t[k]\n",
    "        \n",
    "def mergeSort(v):\n",
    "    _mergeSort(v, 0, len(v)-1)\n",
    "    \n",
    "\n",
    "    \n",
    "n = int(input(\"n의 값을 입력: \"))\n",
    "v = [random.randint(1, 100000) for _ in range(n)]\n",
    "ts = time.time()\n",
    "\n",
    "mergeSort(v)\n",
    "\n",
    "et = int((time.time()-ts) * 1000)\n",
    "\n",
    "print(\"경과시간: %dms\"%et)"
   ]
  },
  {
   "cell_type": "code",
   "execution_count": 14,
   "id": "5ee7c0a2",
   "metadata": {},
   "outputs": [
    {
     "name": "stdout",
     "output_type": "stream",
     "text": [
      "n: 1000\n",
      "경과 시간: 2ms\n"
     ]
    }
   ],
   "source": [
    "# 퀵소트\n",
    "\n",
    "import time\n",
    "import random\n",
    "\n",
    "def partition(v, a, b):\n",
    "    pivot = v[b]\n",
    "    i, j = a, b-1\n",
    "    \n",
    "    while i <= j:\n",
    "        if v[i] <= pivot:\n",
    "            i += 1\n",
    "        else:\n",
    "            v[i], v[j] = v[j], v[i]\n",
    "            j-=1\n",
    "            \n",
    "    v[i], v[b] = v[b], v[i]\n",
    "    \n",
    "    return i\n",
    "\n",
    "def _quickSort(v, a, b):\n",
    "    if b <= a: return\n",
    "    \n",
    "    c = partition(v, a, b)\n",
    "    _quickSort(v, a, c-1)\n",
    "    _quickSort(v, c+1, b)\n",
    "\n",
    "def quickSort(v):\n",
    "    _quickSort(v, 0, len(v)-1)\n",
    "\n",
    "n = int(input(\"n: \"))\n",
    "v = [random.randint(1, 100000) for _ in range(n)]\n",
    "ts = time.time()\n",
    "quickSort(v)\n",
    "et = int((time.time()-ts)*1000)\n",
    "print(\"경과 시간: %dms\"%et)"
   ]
  },
  {
   "cell_type": "code",
   "execution_count": 17,
   "id": "c0281ae8",
   "metadata": {},
   "outputs": [
    {
     "name": "stdout",
     "output_type": "stream",
     "text": [
      "n 입력: 15\n",
      "[2636, 5221, 7595, 8362, 16787, 27311, 36982, 56188, 57252, 62397, 84475, 84938, 95448, 97128, 99088]\n",
      "경과 시간 (Elapse time): 0ms\n"
     ]
    }
   ],
   "source": [
    "# 힙정렬\n",
    "import heapq\n",
    "import random\n",
    "import time\n",
    "\n",
    "def heapSort(v):\n",
    "    heapq.heapify(v)\n",
    "    t= [heapq.heappop(v) for _ in range(len(v))]\n",
    "    \n",
    "    return t\n",
    "    \n",
    "n = int(input(\"n 입력: \"))\n",
    "v = [ random.randint(1, 100000) for _ in range(n)]\n",
    "ts = time.time()\n",
    "v = heapSort(v)\n",
    "et = int((time.time()-ts)*1000)\n",
    "print(\"경과 시간 (Elapse time): %dms\"%et)"
   ]
  },
  {
   "cell_type": "markdown",
   "id": "81e8b02c",
   "metadata": {},
   "source": [
    "### 히스토그램에서 가장 넓은 직사각형 넓이 구하기 (백준 1725번)"
   ]
  },
  {
   "cell_type": "code",
   "execution_count": 2,
   "id": "45ba3e58",
   "metadata": {},
   "outputs": [
    {
     "name": "stdout",
     "output_type": "stream",
     "text": [
      "3 2 3 4 2 3 4 1 \n"
     ]
    },
    {
     "ename": "KeyboardInterrupt",
     "evalue": "",
     "output_type": "error",
     "traceback": [
      "\u001b[0;31m---------------------------------------------------------------------------\u001b[0m",
      "\u001b[0;31mKeyboardInterrupt\u001b[0m                         Traceback (most recent call last)",
      "\u001b[0;32m<ipython-input-2-d3a2e9eda97e>\u001b[0m in \u001b[0;36m<module>\u001b[0;34m\u001b[0m\n\u001b[1;32m     66\u001b[0m \u001b[0mh\u001b[0m \u001b[0;34m=\u001b[0m \u001b[0mtuple\u001b[0m\u001b[0;34m(\u001b[0m\u001b[0mmap\u001b[0m\u001b[0;34m(\u001b[0m\u001b[0mint\u001b[0m\u001b[0;34m,\u001b[0m \u001b[0minput\u001b[0m\u001b[0;34m(\u001b[0m\u001b[0;34m)\u001b[0m\u001b[0;34m.\u001b[0m\u001b[0msplit\u001b[0m\u001b[0;34m(\u001b[0m\u001b[0;34m)\u001b[0m\u001b[0;34m)\u001b[0m\u001b[0;34m)\u001b[0m\u001b[0;34m\u001b[0m\u001b[0;34m\u001b[0m\u001b[0m\n\u001b[1;32m     67\u001b[0m \u001b[0;34m\u001b[0m\u001b[0m\n\u001b[0;32m---> 68\u001b[0;31m \u001b[0mprint\u001b[0m\u001b[0;34m(\u001b[0m\u001b[0mhistogram\u001b[0m\u001b[0;34m(\u001b[0m\u001b[0mh\u001b[0m\u001b[0;34m)\u001b[0m\u001b[0;34m)\u001b[0m\u001b[0;34m\u001b[0m\u001b[0;34m\u001b[0m\u001b[0m\n\u001b[0m",
      "\u001b[0;32m<ipython-input-2-d3a2e9eda97e>\u001b[0m in \u001b[0;36mhistogram\u001b[0;34m(h)\u001b[0m\n\u001b[1;32m     61\u001b[0m \u001b[0;34m\u001b[0m\u001b[0m\n\u001b[1;32m     62\u001b[0m \u001b[0;32mdef\u001b[0m \u001b[0mhistogram\u001b[0m\u001b[0;34m(\u001b[0m\u001b[0mh\u001b[0m\u001b[0;34m)\u001b[0m\u001b[0;34m:\u001b[0m\u001b[0;34m\u001b[0m\u001b[0;34m\u001b[0m\u001b[0m\n\u001b[0;32m---> 63\u001b[0;31m     \u001b[0;32mreturn\u001b[0m \u001b[0m_histogram\u001b[0m\u001b[0;34m(\u001b[0m\u001b[0mh\u001b[0m\u001b[0;34m,\u001b[0m \u001b[0;36m0\u001b[0m\u001b[0;34m,\u001b[0m \u001b[0mlen\u001b[0m\u001b[0;34m(\u001b[0m\u001b[0mh\u001b[0m\u001b[0;34m)\u001b[0m\u001b[0;34m-\u001b[0m\u001b[0;36m1\u001b[0m\u001b[0;34m)\u001b[0m\u001b[0;34m\u001b[0m\u001b[0;34m\u001b[0m\u001b[0m\n\u001b[0m\u001b[1;32m     64\u001b[0m \u001b[0;34m\u001b[0m\u001b[0m\n\u001b[1;32m     65\u001b[0m \u001b[0;31m# 데이터 읽기\u001b[0m\u001b[0;34m\u001b[0m\u001b[0;34m\u001b[0m\u001b[0;34m\u001b[0m\u001b[0m\n",
      "\u001b[0;32m<ipython-input-2-d3a2e9eda97e>\u001b[0m in \u001b[0;36m_histogram\u001b[0;34m(h, a, b)\u001b[0m\n\u001b[1;32m      6\u001b[0m     \u001b[0;31m# 배열을 두개로 나누어야함 --> 합병정렬 사용\u001b[0m\u001b[0;34m\u001b[0m\u001b[0;34m\u001b[0m\u001b[0;34m\u001b[0m\u001b[0m\n\u001b[1;32m      7\u001b[0m     \u001b[0mc\u001b[0m \u001b[0;34m=\u001b[0m \u001b[0;34m(\u001b[0m\u001b[0ma\u001b[0m\u001b[0;34m+\u001b[0m\u001b[0mb\u001b[0m\u001b[0;34m)\u001b[0m\u001b[0;34m//\u001b[0m\u001b[0;36m2\u001b[0m\u001b[0;34m\u001b[0m\u001b[0;34m\u001b[0m\u001b[0m\n\u001b[0;32m----> 8\u001b[0;31m     \u001b[0mleft\u001b[0m \u001b[0;34m=\u001b[0m \u001b[0m_histogram\u001b[0m\u001b[0;34m(\u001b[0m\u001b[0mh\u001b[0m\u001b[0;34m,\u001b[0m \u001b[0ma\u001b[0m\u001b[0;34m,\u001b[0m \u001b[0mc\u001b[0m\u001b[0;34m)\u001b[0m\u001b[0;34m\u001b[0m\u001b[0;34m\u001b[0m\u001b[0m\n\u001b[0m\u001b[1;32m      9\u001b[0m     \u001b[0mright\u001b[0m \u001b[0;34m=\u001b[0m \u001b[0m_histogram\u001b[0m\u001b[0;34m(\u001b[0m\u001b[0mh\u001b[0m\u001b[0;34m,\u001b[0m \u001b[0mc\u001b[0m\u001b[0;34m+\u001b[0m\u001b[0;36m1\u001b[0m\u001b[0;34m,\u001b[0m \u001b[0mb\u001b[0m\u001b[0;34m)\u001b[0m\u001b[0;34m\u001b[0m\u001b[0;34m\u001b[0m\u001b[0m\n\u001b[1;32m     10\u001b[0m \u001b[0;34m\u001b[0m\u001b[0m\n",
      "\u001b[0;32m<ipython-input-2-d3a2e9eda97e>\u001b[0m in \u001b[0;36m_histogram\u001b[0;34m(h, a, b)\u001b[0m\n\u001b[1;32m      7\u001b[0m     \u001b[0mc\u001b[0m \u001b[0;34m=\u001b[0m \u001b[0;34m(\u001b[0m\u001b[0ma\u001b[0m\u001b[0;34m+\u001b[0m\u001b[0mb\u001b[0m\u001b[0;34m)\u001b[0m\u001b[0;34m//\u001b[0m\u001b[0;36m2\u001b[0m\u001b[0;34m\u001b[0m\u001b[0;34m\u001b[0m\u001b[0m\n\u001b[1;32m      8\u001b[0m     \u001b[0mleft\u001b[0m \u001b[0;34m=\u001b[0m \u001b[0m_histogram\u001b[0m\u001b[0;34m(\u001b[0m\u001b[0mh\u001b[0m\u001b[0;34m,\u001b[0m \u001b[0ma\u001b[0m\u001b[0;34m,\u001b[0m \u001b[0mc\u001b[0m\u001b[0;34m)\u001b[0m\u001b[0;34m\u001b[0m\u001b[0;34m\u001b[0m\u001b[0m\n\u001b[0;32m----> 9\u001b[0;31m     \u001b[0mright\u001b[0m \u001b[0;34m=\u001b[0m \u001b[0m_histogram\u001b[0m\u001b[0;34m(\u001b[0m\u001b[0mh\u001b[0m\u001b[0;34m,\u001b[0m \u001b[0mc\u001b[0m\u001b[0;34m+\u001b[0m\u001b[0;36m1\u001b[0m\u001b[0;34m,\u001b[0m \u001b[0mb\u001b[0m\u001b[0;34m)\u001b[0m\u001b[0;34m\u001b[0m\u001b[0;34m\u001b[0m\u001b[0m\n\u001b[0m\u001b[1;32m     10\u001b[0m \u001b[0;34m\u001b[0m\u001b[0m\n\u001b[1;32m     11\u001b[0m     \u001b[0mmax\u001b[0m \u001b[0;34m=\u001b[0m \u001b[0mleft\u001b[0m\u001b[0;34m\u001b[0m\u001b[0;34m\u001b[0m\u001b[0m\n",
      "\u001b[0;32m<ipython-input-2-d3a2e9eda97e>\u001b[0m in \u001b[0;36m_histogram\u001b[0;34m(h, a, b)\u001b[0m\n\u001b[1;32m     26\u001b[0m \u001b[0;34m\u001b[0m\u001b[0m\n\u001b[1;32m     27\u001b[0m     \u001b[0;31m# 하나하나 이동하며 넓이 구함\u001b[0m\u001b[0;34m\u001b[0m\u001b[0;34m\u001b[0m\u001b[0;34m\u001b[0m\u001b[0m\n\u001b[0;32m---> 28\u001b[0;31m     \u001b[0;32mwhile\u001b[0m \u001b[0mi\u001b[0m\u001b[0;34m>=\u001b[0m\u001b[0ma\u001b[0m \u001b[0;34m&\u001b[0m \u001b[0mj\u001b[0m \u001b[0;34m<=\u001b[0m \u001b[0mb\u001b[0m\u001b[0;34m:\u001b[0m\u001b[0;34m\u001b[0m\u001b[0;34m\u001b[0m\u001b[0m\n\u001b[0m\u001b[1;32m     29\u001b[0m         \u001b[0;32mif\u001b[0m \u001b[0mh\u001b[0m\u001b[0;34m[\u001b[0m\u001b[0mi\u001b[0m\u001b[0;34m]\u001b[0m \u001b[0;34m>\u001b[0m \u001b[0mh\u001b[0m\u001b[0;34m[\u001b[0m\u001b[0mj\u001b[0m\u001b[0;34m]\u001b[0m\u001b[0;34m:\u001b[0m\u001b[0;34m\u001b[0m\u001b[0;34m\u001b[0m\u001b[0m\n\u001b[1;32m     30\u001b[0m             \u001b[0;32mif\u001b[0m \u001b[0mh\u001b[0m\u001b[0;34m[\u001b[0m\u001b[0mi\u001b[0m\u001b[0;34m]\u001b[0m \u001b[0;34m<\u001b[0m \u001b[0mminlen\u001b[0m\u001b[0;34m:\u001b[0m\u001b[0;34m\u001b[0m\u001b[0;34m\u001b[0m\u001b[0m\n",
      "\u001b[0;31mKeyboardInterrupt\u001b[0m: "
     ]
    }
   ],
   "source": [
    "def _histogram(h, a, b):\n",
    "    \n",
    "    # 탈출 조건: 1개밖에 없는 경우\n",
    "    if a == b: return h[a]\n",
    "    \n",
    "    # 배열을 두개로 나누어야함 --> 합병정렬 사용\n",
    "    c = (a+b)//2\n",
    "    left = _histogram(h, a, c)\n",
    "    right = _histogram(h, c+1, b)\n",
    "    \n",
    "    max = left\n",
    "    \n",
    "    if max < right:\n",
    "        max = right\n",
    "        \n",
    "    # c와 c+1을 가지고 있으니 밑변의 길이는 2\n",
    "    minlen, len = min(h[c], h[c+1]), 2\n",
    "    \n",
    "    # 히스토 그램 가운데 2개의 넓이 값을 구함\n",
    "    if max < minlen * len: \n",
    "        max = minlen * len\n",
    "    \n",
    "    # 가운데 값에서 잎의 값고, 가운데 값에서 뒤의 값 (2의 차이가 나는 이유는 위에서 c, c+1에 대한 넓이를 계산했기 때문에)\n",
    "    # c-1 c+2 중 큰 쪽을 구해서 넓이를 구해 비교\n",
    "    i, j = c-1, c+2\n",
    "    \n",
    "    # 하나하나 이동하며 넓이 구함 \n",
    "    while i>=a & j <= b:\n",
    "        if h[i] > h[j]:\n",
    "            if h[i] < minlen: \n",
    "                minlen = h[i]\n",
    "                len, i = len+1, i-1\n",
    "                \n",
    "            else:\n",
    "                if h[j] < minlen:\n",
    "                    minlen= h[j]\n",
    "                len, j = len+1, j+1\n",
    "            \n",
    "            if max < minlen*len:\n",
    "                    max = minlen*len\n",
    "                    \n",
    "    # 이전에 구한 히스토그램의 길이가 남은 길이보다 길면 처리해주어야함 \n",
    "    while i >= a:\n",
    "        if h[i] < minlen: \n",
    "            minlen = h[i]\n",
    "        len, i = len+1, i-1\n",
    "        \n",
    "        if max < minlen*len:\n",
    "            max = minlen*len\n",
    "    \n",
    "    while j <= b:\n",
    "        if h[j] < minlen:\n",
    "            minlen = h[j]\n",
    "        \n",
    "        len,j = len+1, j+1\n",
    "        \n",
    "        if max < minlen*len:\n",
    "            max = minlen*len\n",
    "            \n",
    "    return max\n",
    "    \n",
    "def histogram(h):\n",
    "    return _histogram(h, 0, len(h)-1)\n",
    "    \n",
    "# 데이터 읽기\n",
    "h = tuple(map(int, input().split()))\n",
    "\n",
    "print(histogram(h))"
   ]
  },
  {
   "cell_type": "code",
   "execution_count": 10,
   "id": "d1400435",
   "metadata": {},
   "outputs": [
    {
     "name": "stdout",
     "output_type": "stream",
     "text": [
      "7\n",
      "2\n",
      "1\n",
      "4\n",
      "5\n",
      "1\n",
      "3\n",
      "3\n",
      "8\n"
     ]
    }
   ],
   "source": [
    "# 교수님 풀이 - c++로 다시 풀어보기\n",
    "\n",
    "def _histogram(h, a, b):\n",
    "    if a == b: return h[a]\n",
    "    c = (a+b)//2\n",
    "    left = _histogram(h, a, c)\n",
    "    right = _histogram(h, c+1, b)\n",
    "    max = left\n",
    "    if max < right: max = right\n",
    "    minlen, len = min(h[c], h[c+1]), 2\n",
    "    \n",
    "    if max < minlen * len: max = minlen * len\n",
    "        \n",
    "    i, j = c-1, c+2\n",
    "    \n",
    "    while i >= a and j <= b:\n",
    "        if h[i] > h[j]:\n",
    "            if h[i] < minlen: \n",
    "                minlen = h[i]\n",
    "            len, i = len+1, i-1\n",
    "        else:\n",
    "            if h[j] < minlen: minlen = h[j]\n",
    "            len, j = len+1, j+1\n",
    "            \n",
    "        if max < minlen*len: max = minlen*len\n",
    "            \n",
    "    while i >= a:\n",
    "        if h[i] < minlen: minlen = h[i]\n",
    "        len, i = len+1, i-1\n",
    "        \n",
    "        if max < minlen*len: max = minlen*len\n",
    "            \n",
    "    while j <= b:\n",
    "        if h[j] < minlen: minlen = h[j]\n",
    "        len, j = len+1, j+1\n",
    "        \n",
    "        if max < minlen*len: max = minlen*len\n",
    "    return max\n",
    "\n",
    "def histogram(h):\n",
    "    return _histogram(h, 0, len(h)-1)\n",
    "\n",
    "n = int(input())\n",
    "\n",
    "h = []\n",
    "\n",
    "for i in range(0, n):\n",
    "    num = int(input())\n",
    "    h.append(num)\n",
    "\n",
    "\n",
    "\n",
    "print(histogram(h))"
   ]
  },
  {
   "cell_type": "markdown",
   "id": "ae93a9be",
   "metadata": {},
   "source": [
    "### 이진탐색트리\n",
    "#### 이진탐색트리란\n",
    "- 이진탐색트리는 이진트리를 이용하여 원하는 정보를 빨리 찾을 수 있도록 하는 자료구조\n",
    "    - 탐색은 키를 이용하여 원하는 값을 찾음\n",
    "    - 이진탐색트리에서의 노드에는 키와 값을 저장\n",
    "\n",
    "#### 이진검색트리의 형태\n",
    "- 이진 검색트리는 노드의 왼쪽 자식 트리에는 현재 노드값보다 작은값이, 오른쪽 자식 트리에는 현재 노드값보다 큰 값이 저장된 트리\n",
    "- 같은 데이터라도 다양한 트리 형태가 존재\n",
    "\n",
    "#### 서브트리\n",
    "- 트리에 있는 모드 노드를 루트로 하는 트리를 서브 트리라고 함"
   ]
  },
  {
   "cell_type": "markdown",
   "id": "ca21e83a",
   "metadata": {},
   "source": [
    "### 이진탐색트리 연산\n",
    "#### 검색\n",
    "- 주어진 키를 BST에서 검색"
   ]
  },
  {
   "cell_type": "code",
   "execution_count": null,
   "id": "d97db6eb",
   "metadata": {},
   "outputs": [],
   "source": [
    "def search(tree, key):\n",
    "    if tree = None: return None\n",
    "    if tree.key == key: return tree.value\n",
    "    if key < tree.key: return search(tree.left, key)\n",
    "    return search(tree.right, key)"
   ]
  },
  {
   "cell_type": "markdown",
   "id": "2c819f5a",
   "metadata": {},
   "source": [
    "#### 삽입\n",
    "- 주어진 키와 값을 BST에 삽입"
   ]
  },
  {
   "cell_type": "code",
   "execution_count": null,
   "id": "f3e66f7f",
   "metadata": {},
   "outputs": [],
   "source": [
    "def insert(tree, key, value):\n",
    "    if tree == None: return Node(key,value)\n",
    "    if key < tree.key: return tree.left = insert(tree.left, key, value)\n",
    "    return tree.right = insert(tree.right, key, value)"
   ]
  },
  {
   "cell_type": "markdown",
   "id": "c6336d34",
   "metadata": {},
   "source": [
    "#### 삭제\n",
    "- 삭제는 삭제하고자 하는 노드의 자식 개수에 따라 다르게 작동\n",
    "    - 자식의 개수가 0인 경우: 해당 노드를 삭제\n",
    "    - 자식의 개수가 1인 경우: 해당 노드를 삭제하고 그 위치에 자식을 놓음\n",
    "    - 자식의 개수가 2인 경우: 오른쪽 서브트리의 가장 왼쪽 노드를 가져오고 해당 노드를 삭제"
   ]
  },
  {
   "cell_type": "markdown",
   "id": "a167b6e9",
   "metadata": {},
   "source": [
    "### 2*n 타일링 - dp"
   ]
  },
  {
   "cell_type": "code",
   "execution_count": 9,
   "id": "15199a8c",
   "metadata": {},
   "outputs": [
    {
     "name": "stdout",
     "output_type": "stream",
     "text": [
      "10\n",
      "89\n"
     ]
    }
   ],
   "source": [
    "# 점화식\n",
    "# 벽돌이 1개일 경우 1\n",
    "# 벽돌이 2개일 경우 2\n",
    "# 벽돌이 3개일 경우 3\n",
    "# 벽돌이 4개일 경우 5\n",
    "\n",
    "# => N = (N-1) + (N-2)\n",
    "\n",
    "n = int(input())\n",
    "\n",
    "dp = []\n",
    "dp.append(1) # 벽돌이 0개인 경우\n",
    "dp.append(1) # 벽돌이 1개인 경우\n",
    "\n",
    "for i in range(2, n+1):\n",
    "    dp.append(dp[-1]+dp[-2])\n",
    "\n",
    "\n",
    "print(dp[-1])"
   ]
  },
  {
   "cell_type": "code",
   "execution_count": 12,
   "id": "1d4cac00",
   "metadata": {},
   "outputs": [
    {
     "name": "stdout",
     "output_type": "stream",
     "text": [
      "10\n",
      "89\n"
     ]
    }
   ],
   "source": [
    "# 교수님 풀이\n",
    "n = int(input())\n",
    "tn = [1, 1]\n",
    "for _ in range (2, n+1, 2):\n",
    "    tn[0] += tn[1]\n",
    "    tn[1] += tn[0]\n",
    "\n",
    "print(tn[n%2])"
   ]
  },
  {
   "cell_type": "code",
   "execution_count": null,
   "id": "d707467e",
   "metadata": {},
   "outputs": [],
   "source": []
  },
  {
   "cell_type": "code",
   "execution_count": 20,
   "id": "107cb37f",
   "metadata": {},
   "outputs": [
    {
     "ename": "SyntaxError",
     "evalue": "invalid syntax (<ipython-input-20-4cb74a74c191>, line 6)",
     "output_type": "error",
     "traceback": [
      "\u001b[0;36m  File \u001b[0;32m\"<ipython-input-20-4cb74a74c191>\"\u001b[0;36m, line \u001b[0;32m6\u001b[0m\n\u001b[0;31m    v [ [0]*(na+1) for _ in range(nb+1) ]\u001b[0m\n\u001b[0m                   ^\u001b[0m\n\u001b[0;31mSyntaxError\u001b[0m\u001b[0;31m:\u001b[0m invalid syntax\n"
     ]
    }
   ],
   "source": [
    "# LCS\n",
    "a = input()\n",
    "b = input()\n",
    "na, nb = len(a), len(b)\n",
    "\n",
    "v [ [0]*(na+1) for _ in range(nb+1) ]\n",
    "\n",
    "for i in range(1, nb+1):\n",
    "    for j in range(1, na+1):\n",
    "        if a[j-1] == b[i-1]:\n",
    "            v[i][j] = v[i-1][j-1]+1\n",
    "        else:\n",
    "            v[i][j] = max(v[i-1][j], v[i][j-1])\n",
    "            \n",
    "print(v[nb][na])"
   ]
  },
  {
   "cell_type": "code",
   "execution_count": 23,
   "id": "522c95ce",
   "metadata": {},
   "outputs": [
    {
     "name": "stdout",
     "output_type": "stream",
     "text": [
      "동전의 종류: 1 5 10\n",
      "금액: 10\n",
      "4\n"
     ]
    }
   ],
   "source": [
    "# 동전의 경우의 수 구하기\n",
    "\n",
    "coins = list(map(int, input(\"동전의 종류: \").split()))\n",
    "amount = int(input(\"금액: \"))\n",
    "\n",
    "dp = [0]*(amount+1)\n",
    "dp[0] = 1\n",
    "\n",
    "for coin in coins:\n",
    "    for k in range(amount, 0, -1):\n",
    "        sum = dp[k]\n",
    "        \n",
    "        for i in range (k-coin, -1, -coin):\n",
    "            sum+=dp[i]\n",
    "        dp[k] = sum\n",
    "        \n",
    "print(dp[-1])"
   ]
  },
  {
   "cell_type": "code",
   "execution_count": null,
   "id": "79ce9f07",
   "metadata": {},
   "outputs": [],
   "source": []
  }
 ],
 "metadata": {
  "kernelspec": {
   "display_name": "Python 3",
   "language": "python",
   "name": "python3"
  },
  "language_info": {
   "codemirror_mode": {
    "name": "ipython",
    "version": 3
   },
   "file_extension": ".py",
   "mimetype": "text/x-python",
   "name": "python",
   "nbconvert_exporter": "python",
   "pygments_lexer": "ipython3",
   "version": "3.8.8"
  }
 },
 "nbformat": 4,
 "nbformat_minor": 5
}
