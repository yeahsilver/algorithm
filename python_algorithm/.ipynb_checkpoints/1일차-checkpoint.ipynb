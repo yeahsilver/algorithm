{
 "cells": [
  {
   "cell_type": "markdown",
   "id": "8e117633",
   "metadata": {},
   "source": [
    "# 1일차 - Python 심화 특강"
   ]
  },
  {
   "cell_type": "markdown",
   "id": "353ed085",
   "metadata": {},
   "source": [
    "## 변수\n",
    "- 프로그램에서 값을 저장하기 위한 저장 공간을 지칭\n",
    "- 변수는 알파벳 대소문자, 숫자, _를 이용하여 이름을 지정\n",
    "- 같은 이름의 변수는 정해진 범위내에서 같은 저장공간을 사용\n",
    "\n",
    "## 변수 이름\n",
    "- 숫자가 앞에 와서는 안됨\n",
    "- 예약어 사용 불가\n",
    "- 올바른 변수: _, abc, _def\n",
    "- 올바르지 않은 변수 이름: 3x74, um%b, for "
   ]
  },
  {
   "cell_type": "markdown",
   "id": "58130f7b",
   "metadata": {},
   "source": [
    "## 나열 자료형\n",
    "- 리스트\n",
    "- 튜플: 읽기 위한 배열\n",
    "- 해시 테이블 = 집합\n",
    "- 딕셔너리"
   ]
  },
  {
   "cell_type": "markdown",
   "id": "8df6700d",
   "metadata": {},
   "source": [
    "## 연산자\n",
    "- +\n",
    "- -\n",
    "- *\n",
    "- /\n",
    "- **: 거듭제곱 (우선순위 높음)\n",
    "- //: 정수 나누기 (정수 나눗셈)\n",
    "- %"
   ]
  },
  {
   "cell_type": "code",
   "execution_count": null,
   "id": "ddce9fd9",
   "metadata": {},
   "outputs": [],
   "source": []
  }
 ],
 "metadata": {
  "kernelspec": {
   "display_name": "Python 3",
   "language": "python",
   "name": "python3"
  },
  "language_info": {
   "codemirror_mode": {
    "name": "ipython",
    "version": 3
   },
   "file_extension": ".py",
   "mimetype": "text/x-python",
   "name": "python",
   "nbconvert_exporter": "python",
   "pygments_lexer": "ipython3",
   "version": "3.8.8"
  }
 },
 "nbformat": 4,
 "nbformat_minor": 5
}
