{
 "cells": [
  {
   "cell_type": "markdown",
   "id": "841e5df4",
   "metadata": {},
   "source": [
    "## 4일차 - Python 심화 특강"
   ]
  },
  {
   "cell_type": "code",
   "execution_count": 3,
   "id": "b5bafdd2",
   "metadata": {},
   "outputs": [
    {
     "name": "stdout",
     "output_type": "stream",
     "text": [
      "4 2\n",
      "12 3\n",
      "15 4\n",
      "12\n"
     ]
    }
   ],
   "source": [
    "# 1번 - 단백질 바 주문하기\n",
    "# https://www.acmicpc.net/problem/1049\n",
    "\n",
    "n, m = map(int, input().split())\n",
    "\n",
    "pmin, omin = 1000, 1000\n",
    "\n",
    "for _ in range(m):\n",
    "    p, o = map(int, input().split())\n",
    "    pmin = min(pmin, p)\n",
    "    omin = min(omin, o)\n",
    "    \n",
    "# 세트가격이 단품 6개를 살 때 보다 비싼 경우\n",
    "if pmin > omin*6:\n",
    "    pmin = omin*6\n",
    "\n",
    "# q: 세트 구매 r: 단품 구매\n",
    "q, r = n//6, n%6\n",
    "\n",
    "# 세트 구매 비용 할당\n",
    "sum = q * pmin\n",
    "\n",
    "# 단품 6개를 사는 게 세트보다 비싸면\n",
    "if r * omin > pmin:\n",
    "    sym += pmin\n",
    "else:\n",
    "    sum += r*omin\n",
    "\n",
    "print(sum)"
   ]
  },
  {
   "cell_type": "code",
   "execution_count": 9,
   "id": "b0fff0d5",
   "metadata": {},
   "outputs": [
    {
     "name": "stdout",
     "output_type": "stream",
     "text": [
      "6 1 10 15 20 25 30\n",
      "1 10 15 20 25\n",
      "1 10 15 20 30\n",
      "1 10 15 25 30\n",
      "1 10 20 25 30\n",
      "1 15 20 25 30\n",
      "10 15 20 25 30\n"
     ]
    }
   ],
   "source": [
    "# 2번 - 눈 뭉치기\n",
    "from itertools import combinations\n",
    "\n",
    "z = list(map(int, input().split()))\n",
    "\n",
    "for c in combinations(z[1:],5):\n",
    "#     print(\" \".join(map(str,c)))\n",
    "    print(*c)"
   ]
  },
  {
   "cell_type": "code",
   "execution_count": 15,
   "id": "ee1a8439",
   "metadata": {},
   "outputs": [
    {
     "name": "stdout",
     "output_type": "stream",
     "text": [
      "20 4 2\n",
      "4 7 16 20\n",
      "9 7\n"
     ]
    }
   ],
   "source": [
    "# 3번 - 롤케이크 자르기\n",
    "# https://www.acmicpc.net/problem/1114\n",
    "\n",
    "from itertools import combinations\n",
    "\n",
    "l, k, c = map(int, input().split())\n",
    "B = list(map(int, input().split()))\n",
    "\n",
    "if c > len(B):\n",
    "    c = len(B)\n",
    "\n",
    "B.sort()\n",
    "\n",
    "set = list(combinations(B,c))\n",
    "\n",
    "result = []\n",
    "\n",
    "for i in set:\n",
    "    A = []\n",
    "    A.append(i[0])\n",
    "    \n",
    "    for j in range(1, c):\n",
    "        A.append(i[j] - i[j-1])\n",
    "    A.append(l-i[c-1])\n",
    "    result.append([max(A), i[0]])\n",
    "    \n",
    "min = 100000\n",
    "\n",
    "for i in result: \n",
    "    if i[0] < min:\n",
    "        min = i[0]\n",
    "        x = i[1]\n",
    "    elif i[0] == min:\n",
    "        if i[1] < x:\n",
    "            x = i[1]\n",
    "\n",
    "print(min,x)"
   ]
  },
  {
   "cell_type": "code",
   "execution_count": 3,
   "id": "ac2f5384",
   "metadata": {},
   "outputs": [
    {
     "name": "stdout",
     "output_type": "stream",
     "text": [
      "20 4 2\n",
      "4 7 16 20\n",
      "9 7\n"
     ]
    }
   ],
   "source": [
    "# 교수님 풀이\n",
    "\n",
    "from bisect import bisect_left\n",
    "\n",
    "length, k, c = map(int, input().split())\n",
    "cuts = list(map(int, input().split()))\n",
    "\n",
    "# 처음과 끝 값 제공\n",
    "cuts.append(0)\n",
    "cuts.append(length)\n",
    "cuts.sort()\n",
    "\n",
    "# a < L- m <= b\n",
    "# a+m < L <= b+m\n",
    "\n",
    "# mid 크기까지 허용하는 케익 자르기에서 c번 이하로 자를 수 있는지 검사\n",
    "# cuts [in] 자를 수 있는 위치\n",
    "# mid [in] 자를 수 있는 최대 크기\n",
    "# c [in] 자를 수 있는 횟수\n",
    "# 반환은 성공 여부. 성공한 경우 제일 왼쪽 조각의 크기를 반환\n",
    "\n",
    "def passNFail(cuts, mid, c):\n",
    "    idx = len(cuts)-1\n",
    "    \n",
    "    # 자를 수 있는 횟수를 모두 소진했을 경우까지 while문 돌리기\n",
    "    while c > 0:\n",
    "        #현재 위치: 빵의 오른쪽 끝\n",
    "        nextV = cuts[idx] - mid\n",
    "        \n",
    "        # 자르지 않아도 되는 경우\n",
    "        if nextV <= 0: \n",
    "            return True, cuts[1]\n",
    "        \n",
    "        newIdx = bisect_left(cuts, nextV)\n",
    "        \n",
    "        # 원하는 값이 나오지 않았을 경우 실패\n",
    "        if newIdx == idx: \n",
    "            return False, 0\n",
    "        \n",
    "        idx = newIdx\n",
    "        c -= 1\n",
    "    \n",
    "    # 남아 있는 크기가 mid보다 크다면 실패\n",
    "    if cuts[idx] > mid:\n",
    "        return False, 0\n",
    "    \n",
    "    return True, cuts[idx]\n",
    "\n",
    "\n",
    "# 이진 탐색\n",
    "firstcut = length\n",
    "left = length//(c+1)-1 # 이진탐색에서 fail이 확실한 조각. 이유) c번 커팅을 하는데 조각이 작으면 실패 (최소값보다 더 작기 때문)\n",
    "right = length\n",
    "\n",
    "while left < right-1:\n",
    "    mid = (left + right)//2\n",
    "    ret, first = passNFail(cuts, mid, c)\n",
    "\n",
    "    # 성공한 경우\n",
    "    if ret: \n",
    "        right, firstCut = mid, first\n",
    "    \n",
    "    # 실패한 경우\n",
    "    else:\n",
    "        left = mid\n",
    "\n",
    "print(right, firstCut)\n"
   ]
  },
  {
   "cell_type": "code",
   "execution_count": 11,
   "id": "edc0bea1",
   "metadata": {},
   "outputs": [
    {
     "name": "stdout",
     "output_type": "stream",
     "text": [
      "1000000000 1 2 3\n",
      "500000000500000000\n"
     ]
    }
   ],
   "source": [
    "# Lab 1\n",
    "n, a, b, c = map(int, input().split())\n",
    "\n",
    "sum = 0\n",
    "for i in range(1, n+1):\n",
    "    if i%a == 0 or i%b == 0 or i%c ==0:\n",
    "        sum+=i\n",
    "        \n",
    "print(sum)\n"
   ]
  },
  {
   "cell_type": "code",
   "execution_count": 22,
   "id": "19c74141",
   "metadata": {},
   "outputs": [
    {
     "ename": "ImportError",
     "evalue": "cannot import name 'lcm' from 'math' (/opt/anaconda3/lib/python3.8/lib-dynload/math.cpython-38-darwin.so)",
     "output_type": "error",
     "traceback": [
      "\u001b[0;31m---------------------------------------------------------------------------\u001b[0m",
      "\u001b[0;31mImportError\u001b[0m                               Traceback (most recent call last)",
      "\u001b[0;32m<ipython-input-22-db9198a5191e>\u001b[0m in \u001b[0;36m<module>\u001b[0;34m\u001b[0m\n\u001b[0;32m----> 1\u001b[0;31m \u001b[0;32mfrom\u001b[0m \u001b[0mmath\u001b[0m \u001b[0;32mimport\u001b[0m \u001b[0mlcm\u001b[0m\u001b[0;34m\u001b[0m\u001b[0;34m\u001b[0m\u001b[0m\n\u001b[0m\u001b[1;32m      2\u001b[0m \u001b[0;34m\u001b[0m\u001b[0m\n\u001b[1;32m      3\u001b[0m \u001b[0mn\u001b[0m\u001b[0;34m,\u001b[0m \u001b[0ma\u001b[0m\u001b[0;34m,\u001b[0m \u001b[0mb\u001b[0m\u001b[0;34m,\u001b[0m \u001b[0mc\u001b[0m \u001b[0;34m=\u001b[0m \u001b[0mmap\u001b[0m\u001b[0;34m(\u001b[0m\u001b[0mint\u001b[0m\u001b[0;34m,\u001b[0m \u001b[0minput\u001b[0m\u001b[0;34m(\u001b[0m\u001b[0;34m)\u001b[0m\u001b[0;34m.\u001b[0m\u001b[0msplit\u001b[0m\u001b[0;34m(\u001b[0m\u001b[0;34m)\u001b[0m\u001b[0;34m)\u001b[0m\u001b[0;34m\u001b[0m\u001b[0;34m\u001b[0m\u001b[0m\n\u001b[1;32m      4\u001b[0m \u001b[0;34m\u001b[0m\u001b[0m\n\u001b[1;32m      5\u001b[0m \u001b[0;31m# n이하의 a배수의 합을 계산\u001b[0m\u001b[0;34m\u001b[0m\u001b[0;34m\u001b[0m\u001b[0;34m\u001b[0m\u001b[0m\n",
      "\u001b[0;31mImportError\u001b[0m: cannot import name 'lcm' from 'math' (/opt/anaconda3/lib/python3.8/lib-dynload/math.cpython-38-darwin.so)"
     ]
    }
   ],
   "source": [
    "from math import lcm\n",
    "\n",
    "n, a, b, c = map(int, input().split())\n",
    "\n",
    "# n이하의 a배수의 합을 계산\n",
    "def SUM(n, a):\n",
    "    na = n//a\n",
    "    return a*na*(na)+1//2\n",
    "    \n",
    "sum = SUM(n, a) + SUM(n, b) + SUM(n,c)\n",
    "\n",
    "sum-= SUM(n,lcm(a,b)) + SUM(n,lcm(b,c)) + SUM(n,lcm(a,c))\n",
    "\n",
    "sum += SUM(n,lcm(lcm(a,b),c))\n",
    "\n",
    "print(sum)"
   ]
  },
  {
   "cell_type": "code",
   "execution_count": null,
   "id": "3d471e65",
   "metadata": {},
   "outputs": [],
   "source": [
    "from math import lcm\n",
    "\n",
    "n, a, b, c = map(int, input().split())\n",
    "\n",
    "# n이하의 a배수의 합을 계산\n",
    "def summ(n, a):\n",
    "    na = n//a\n",
    "    return a*na*(na+1)//2\n",
    "\n",
    "sum = summ(n, a) + summ(n, b) + summ(n, c)\n",
    "sum -= summ(n, lcm(a, b)) + summ(n, lcm(b, c)) + summ(n, lcm(c, a))\n",
    "sum += summ(n, lcm(lcm(a, b), c))\n",
    "\n",
    "print(sum)"
   ]
  },
  {
   "cell_type": "code",
   "execution_count": 23,
   "id": "95505962",
   "metadata": {},
   "outputs": [
    {
     "ename": "SyntaxError",
     "evalue": "EOL while scanning string literal (<ipython-input-23-c2e956b50913>, line 21)",
     "output_type": "error",
     "traceback": [
      "\u001b[0;36m  File \u001b[0;32m\"<ipython-input-23-c2e956b50913>\"\u001b[0;36m, line \u001b[0;32m21\u001b[0m\n\u001b[0;31m    \"\"\"\"\u001b[0m\n\u001b[0m        \n^\u001b[0m\n\u001b[0;31mSyntaxError\u001b[0m\u001b[0;31m:\u001b[0m EOL while scanning string literal\n"
     ]
    }
   ],
   "source": [
    "# Lab 5\n",
    "from itertools import permutations\n",
    "\n",
    "def isValidQueens(qs):\n",
    "    s1, s2 = set(), set()\n",
    "    for k in range(len(qs)):\n",
    "        if q[k]+k in s1: return False\n",
    "        s1.add(q[k]+k)\n",
    "        if q[k]-k in s2: return False\n",
    "        s2.add(q[k]-k)\n",
    "    return True\n",
    "\n",
    "n = int(input())\n",
    "\n",
    "\n",
    "def backQueen(c, n, h, d1, d2):\n",
    "    if c == n: return 1\n",
    "    count = 0\n",
    "    for i in range(n):\n",
    "        if i in h: continue         # 가로에 퀸이 배치되서는 안됨\n",
    "        if i+c in d1: continue      # 대각선에 퀸이 배치되서는 안됨\n",
    "        if i-c in d2: continue\n",
    "        count += backQueen(c+1, n, h|{i,}, d1|{i+c,}, d2|{i-c,})\n",
    "    return count\n",
    "\n",
    "print(backQueen(0, n, set(), set(), set()))\n"
   ]
  },
  {
   "cell_type": "code",
   "execution_count": null,
   "id": "83ea5373",
   "metadata": {},
   "outputs": [],
   "source": []
  }
 ],
 "metadata": {
  "kernelspec": {
   "display_name": "Python 3",
   "language": "python",
   "name": "python3"
  }
 },
 "nbformat": 4,
 "nbformat_minor": 5
}
