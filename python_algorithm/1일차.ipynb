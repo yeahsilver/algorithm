{
 "cells": [
  {
   "cell_type": "markdown",
   "id": "72b9cf75",
   "metadata": {},
   "source": [
    "# 1일차 - Python 심화 특강"
   ]
  },
  {
   "cell_type": "markdown",
   "id": "3b0d88f3",
   "metadata": {},
   "source": [
    "## 변수\n",
    "- 프로그램에서 값을 저장하기 위한 저장 공간을 지칭\n",
    "- 변수는 알파벳 대소문자, 숫자, _를 이용하여 이름을 지정\n",
    "- 같은 이름의 변수는 정해진 범위내에서 같은 저장공간을 사용\n",
    "\n",
    "## 변수 이름\n",
    "- 숫자가 앞에 와서는 안됨\n",
    "- 예약어 사용 불가\n",
    "- 올바른 변수: _, abc, _def\n",
    "- 올바르지 않은 변수 이름: 3x74, um%b, for "
   ]
  },
  {
   "cell_type": "markdown",
   "id": "28931a7d",
   "metadata": {},
   "source": [
    "## 나열 자료형\n",
    "- 리스트\n",
    "- 튜플: 읽기 위한 배열\n",
    "- 해시 테이블 = 집합\n",
    "- 딕셔너리"
   ]
  },
  {
   "cell_type": "markdown",
   "id": "411b1c15",
   "metadata": {},
   "source": [
    "## 연산자\n",
    "- +\n",
    "- -\n",
    "- *\n",
    "- /\n",
    "- **: 거듭제곱 (우선순위 높음)\n",
    "- //: 정수 나누기 (정수 나눗셈)\n",
    "- %"
   ]
  },
  {
   "cell_type": "markdown",
   "id": "d151399b",
   "metadata": {},
   "source": [
    "### 클래스"
   ]
  },
  {
   "cell_type": "code",
   "execution_count": 3,
   "id": "53ba7ee2",
   "metadata": {},
   "outputs": [
    {
     "name": "stdout",
     "output_type": "stream",
     "text": [
      "MyClass에 오신 것을 환영합니다\n",
      "MyClass 객체를 이용해야만 호출됨\n",
      "MyClass 객체를 이용해야만 호출됨\n"
     ]
    }
   ],
   "source": [
    "class MyClass: \n",
    "    def foo():\n",
    "        print(\"MyClass에 오신 것을 환영합니다\")\n",
    "        \n",
    "    # 객체를 이용해 실행할 수 있는 메소드\n",
    "    def foo1(self): \n",
    "        print(\"MyClass 객체를 이용해야만 호출됨\")\n",
    "        \n",
    "# 객체 생성\n",
    "a = MyClass()\n",
    "\n",
    "\n",
    "# 클래스 함수 호출\n",
    "MyClass.foo()\n",
    "\n",
    "# 객체 메소드 호출\n",
    "a.foo1()\n",
    "MyClass.foo1(a)"
   ]
  },
  {
   "cell_type": "markdown",
   "id": "d5f268fe",
   "metadata": {},
   "source": [
    "## queue"
   ]
  },
  {
   "cell_type": "code",
   "execution_count": 9,
   "id": "bc343c89",
   "metadata": {},
   "outputs": [
    {
     "data": {
      "text/plain": [
       "'홍길동'"
      ]
     },
     "execution_count": 9,
     "metadata": {},
     "output_type": "execute_result"
    }
   ],
   "source": [
    "class MyQueue: \n",
    "    # 생성자 \n",
    "    def __init__(self):\n",
    "        self.data = []\n",
    "        \n",
    "    def get(self):\n",
    "        return self.data.pop(0)\n",
    "    \n",
    "    def put(self, newItem):\n",
    "        self.data.append(newItem)\n",
    "        \n",
    "    def empty(self):\n",
    "        return len(self.data) == 0\n",
    "    \n",
    "    def qsize(self):\n",
    "        return len(self.data)\n",
    "    \n",
    "queue = MyQueue()\n",
    "queue.put(\"홍길동\")\n",
    "queue.put(1)\n",
    "queue.put(2)\n",
    "\n",
    "queue.qsize()\n",
    "queue.get()"
   ]
  },
  {
   "cell_type": "markdown",
   "id": "1a50b740",
   "metadata": {},
   "source": [
    "## 모듈"
   ]
  },
  {
   "cell_type": "markdown",
   "id": "c81f655f",
   "metadata": {},
   "source": [
    "### 모듈이란\n",
    "- 모듈은 함수, 변수, 클래스를 모아놓은 파일\n",
    "- 프로그램에서 모듈 파일에 있는 내용을 가져와 사용\n",
    "- 파이썬은 버착언어로 많은 모듈이 제공 됨"
   ]
  },
  {
   "cell_type": "markdown",
   "id": "3f1e66d0",
   "metadata": {},
   "source": [
    "### 힙"
   ]
  },
  {
   "cell_type": "code",
   "execution_count": 14,
   "id": "2858591b",
   "metadata": {},
   "outputs": [
    {
     "name": "stdout",
     "output_type": "stream",
     "text": [
      "숫자 입력: 2 4 5 1\n",
      "[1, 2, 4, 5]\n"
     ]
    }
   ],
   "source": [
    "import heapq\n",
    "\n",
    "h = list(map(int, input(\"숫자 입력: \").split()))\n",
    "heapq.heapify(h)\n",
    "\n",
    "sorted = [heapq.heappop(h) for _ in range(len(h))]\n",
    "print(sorted)"
   ]
  },
  {
   "cell_type": "markdown",
   "id": "cff051f6",
   "metadata": {},
   "source": [
    "### 순열"
   ]
  },
  {
   "cell_type": "code",
   "execution_count": 16,
   "id": "5d482716",
   "metadata": {},
   "outputs": [
    {
     "name": "stdout",
     "output_type": "stream",
     "text": [
      "['홍길동', '성춘향']\n",
      "['홍길동', '이몽룡']\n",
      "['성춘향', '홍길동']\n",
      "['성춘향', '이몽룡']\n",
      "['이몽룡', '홍길동']\n",
      "['이몽룡', '성춘향']\n"
     ]
    }
   ],
   "source": [
    "def perm(v,r, s = []):\n",
    "    if r == 0:\n",
    "        print(s)\n",
    "        return \n",
    "    for x in v:\n",
    "        if x in s: continue\n",
    "        perm(v, r-1, s+[x])\n",
    "\n",
    "v = [\"홍길동\", \"성춘향\", \"이몽룡\"]\n",
    "r = 2\n",
    "perm(v,2)\n"
   ]
  },
  {
   "cell_type": "markdown",
   "id": "442cd164",
   "metadata": {},
   "source": [
    "### 가장 긴 길이의 증가하는 부분 수열"
   ]
  },
  {
   "cell_type": "code",
   "execution_count": null,
   "id": "0cec08aa",
   "metadata": {},
   "outputs": [],
   "source": [
    "# 내 풀이\n",
    "# 10 20 10 30 20 50\n",
    "\n",
    "from bisect import bisect_left\n",
    "\n",
    "# 입력 값을 int 형으로 numbers라는 리스트에 삽입\n",
    "numbers = list(map(int, input().split()))\n",
    "\n",
    "# 리스트 초기화를 위해 0을 삽입. \n",
    "l = [0, ]\n",
    "\n",
    "for number in numbers:\n",
    "    \n",
    "    # 마지막 값이 number보다 작다면 number를 삽입\n",
    "    if l[-1] < number:\n",
    "        l.append(number)\n",
    "        \n",
    "    # 리스트 l에서 number 의 값 중 가장 왼쪽에 있는 값의 인덱스를 탐색하여 value에 삽입\n",
    "    # 값이 존재해야하는 위치에 number 값 넣기\n",
    "    else:\n",
    "        value = bisect_left(l, number)\n",
    "        l[value] = number\n",
    "        \n",
    "print(len(l)-1)"
   ]
  },
  {
   "cell_type": "code",
   "execution_count": null,
   "id": "d2b2d26f",
   "metadata": {},
   "outputs": [],
   "source": [
    "# 교수님 풀이\n",
    "from bisect import bisect_left\n",
    "\n",
    "s = tuple(map(int, input().split()))\n",
    "seq = [s[0]]\n",
    "\n",
    "for x in range(1, len(s)):\n",
    "    if seq[-1] < s[o]:\n",
    "        seq.append(s[i])\n",
    "    else:\n",
    "        idx = bisect_left(seq, s[i])\n",
    "        seq[idx] = s[i]\n",
    "        \n",
    "print(len(seq))"
   ]
  },
  {
   "cell_type": "code",
   "execution_count": null,
   "id": "4f382421",
   "metadata": {},
   "outputs": [],
   "source": []
  }
 ],
 "metadata": {
  "kernelspec": {
   "display_name": "Python 3",
   "language": "python",
   "name": "python3"
  },
  "language_info": {
   "codemirror_mode": {
    "name": "ipython",
    "version": 3
   },
   "file_extension": ".py",
   "mimetype": "text/x-python",
   "name": "python",
   "nbconvert_exporter": "python",
   "pygments_lexer": "ipython3",
   "version": "3.8.8"
  }
 },
 "nbformat": 4,
 "nbformat_minor": 5
}
