{
 "cells": [
  {
   "cell_type": "markdown",
   "id": "1a563064",
   "metadata": {},
   "source": [
    "## 문자열 처리\n",
    "### 1. 대문자, 소문자 처리"
   ]
  },
  {
   "cell_type": "code",
   "execution_count": 1,
   "id": "9c151d92",
   "metadata": {
    "scrolled": true
   },
   "outputs": [
    {
     "name": "stdout",
     "output_type": "stream",
     "text": [
      "HELLO\n",
      "hello\n"
     ]
    }
   ],
   "source": [
    "string = \"Hello\"\n",
    "print(string.upper())\n",
    "print(string.lower())"
   ]
  },
  {
   "cell_type": "markdown",
   "id": "d8c2ba9e",
   "metadata": {},
   "source": [
    "### 2. 문자열 바꾸기 (replace)"
   ]
  },
  {
   "cell_type": "code",
   "execution_count": 2,
   "id": "4d92bad6",
   "metadata": {},
   "outputs": [
    {
     "name": "stdout",
     "output_type": "stream",
     "text": [
      "My favorate song as snowman by saa\n",
      "My favorite  is snowman by sia\n",
      "Myfavoritesongissnowmanbysia\n"
     ]
    }
   ],
   "source": [
    "string = \"My favorite song is snowman by sia\"\n",
    "\n",
    "# i를 a로 변환\n",
    "print(string.replace(\"i\",\"a\"))\n",
    "#song을 공백으로 변환\n",
    "print(string.replace(\"song\", \"\"))\n",
    "# 공백 삭제\n",
    "print(string.replace(\" \", \"\"))"
   ]
  },
  {
   "cell_type": "markdown",
   "id": "713deee2",
   "metadata": {},
   "source": [
    "### 3. 문자열 찾기\n",
    "찾고 싶은 문자열을 입력하면 처음 나오는 위치의 인덱스 반환"
   ]
  },
  {
   "cell_type": "code",
   "execution_count": 3,
   "id": "689f7f96",
   "metadata": {},
   "outputs": [
    {
     "name": "stdout",
     "output_type": "stream",
     "text": [
      "17\n",
      "-1\n",
      "3\n",
      "0\n"
     ]
    }
   ],
   "source": [
    "string = \"My favorite song is snowman by sia\"\n",
    "\n",
    "print(string.find(\"is\"))\n",
    "# maroon이라는 단어는 string에 포함되어있지 않기에 -1 반환\n",
    "print(string.find(\"marron\"))\n",
    "\n",
    "## 해당 문자열의 개수 반환 (count 사용)\n",
    "print(string.count(\"i\"))\n",
    "print(string.count(\"maroon\"))"
   ]
  },
  {
   "cell_type": "markdown",
   "id": "cdff1cc9",
   "metadata": {},
   "source": [
    "### 4. 문자열 슬라이싱"
   ]
  },
  {
   "cell_type": "code",
   "execution_count": 4,
   "id": "e852cebc",
   "metadata": {},
   "outputs": [
    {
     "name": "stdout",
     "output_type": "stream",
     "text": [
      "My favorite song is snowman by sia\n",
      "vorite song is snowman by sia\n",
      "My favori\n",
      "My favorite song is snowman by s\n",
      "M aoiesn ssomnb i\n",
      "ais yb namwons si gnos etirovaf yM\n"
     ]
    }
   ],
   "source": [
    "string = \"My favorite song is snowman by sia\"\n",
    "\n",
    "# 처음부터 끝까지\n",
    "print(string[:])\n",
    "\n",
    "# 5번쨰부터 끝까지\n",
    "print(string[5:])\n",
    "\n",
    "# 처음부터 9번째 까지\n",
    "print(string[:9])\n",
    "\n",
    "#음수도 가능. 끝에서부터 처리\n",
    "# 처움부터 뒤에서 2번째 까지\n",
    "print(string[:-2])\n",
    "\n",
    "# 한개의 문자를 건너뛰기\n",
    "print(string[::2])\n",
    "\n",
    "# 문자열 전환\n",
    "print(string[::-1])"
   ]
  },
  {
   "cell_type": "markdown",
   "id": "b686d681",
   "metadata": {},
   "source": [
    "### 5. 문자열 분리 및 결합"
   ]
  },
  {
   "cell_type": "code",
   "execution_count": 9,
   "id": "82992600",
   "metadata": {},
   "outputs": [
    {
     "name": "stdout",
     "output_type": "stream",
     "text": [
      "['apple', 'banana', 'kiwi', 'tomato']\n",
      "['1', '2', '3', '4', '']\n",
      "apple banana kiwi tomato\n",
      "apple, banana, kiwi, tomato\n"
     ]
    }
   ],
   "source": [
    "string = \"apple banana kiwi tomato\"\n",
    "\n",
    "print(string.split())\n",
    "\n",
    "string = \"1a2a3a4a\"\n",
    "print(string.split('a'))\n",
    "\n",
    "string = \"apple banana kiwi tomato\"\n",
    "\n",
    "li = string.split()\n",
    "print(\" \".join(li))\n",
    "print(\", \".join(li))"
   ]
  },
  {
   "cell_type": "markdown",
   "id": "7d94a974",
   "metadata": {},
   "source": [
    "### 6. 문자열 공백 제거"
   ]
  },
  {
   "cell_type": "code",
   "execution_count": 10,
   "id": "976d376d",
   "metadata": {},
   "outputs": [
    {
     "name": "stdout",
     "output_type": "stream",
     "text": [
      "Hello World\n",
      "Hello World       \n",
      "        Hello World\n",
      "bbbbbbb\n",
      "bbbbbbbaaaaaaaa\n",
      "aaaaaabbbbbbb\n",
      "\n",
      "bbbccbbaacc\n"
     ]
    }
   ],
   "source": [
    "string = \"        Hello World       \"\n",
    "\n",
    "print(string.strip())\n",
    "print(string.lstrip())\n",
    "print(string.rstrip())\n",
    "\n",
    "string = \"aaaaaabbbbbbbaaaaaaaa\"\n",
    "\n",
    "# \"a\"가 나오지 않을 때 까지 제거\n",
    "print(string.strip(\"a\"))\n",
    "# 오른쪽에서 \"a\"가 나오지 않을 때까지 제거\n",
    "print(string.lstrip(\"a\"))\n",
    "# 왼쪽에서 \"a\"가 나오지 않을 때까지 제거\n",
    "print(string.rstrip(\"a\"))\n",
    "\n",
    "# 양쪽에서 a 또는 b가 나오지 않을 때 까지 제거\n",
    "print(string.strip(\"ab\"))\n",
    "\n",
    "string = \"aaaabbbccbbaacc\"\n",
    "print(string.strip(\"a\"))"
   ]
  },
  {
   "cell_type": "markdown",
   "id": "57bb2fdc",
   "metadata": {},
   "source": [
    "### 7. 아스키코드 관련 함수"
   ]
  },
  {
   "cell_type": "code",
   "execution_count": 12,
   "id": "1d161f2d",
   "metadata": {},
   "outputs": [
    {
     "name": "stdout",
     "output_type": "stream",
     "text": [
      "a\n",
      "A\n",
      "98\n",
      "48\n"
     ]
    }
   ],
   "source": [
    "# 숫자에 맞는 아스키 문자 출력\n",
    "print(chr(97))\n",
    "print(chr(65))\n",
    "\n",
    "# 글자에 맞는 숫자 출력\n",
    "print(ord('b'))\n",
    "print(ord('0'))"
   ]
  },
  {
   "cell_type": "markdown",
   "id": "646d08a4",
   "metadata": {},
   "source": [
    "### 19538 싸이버 개강총회"
   ]
  },
  {
   "cell_type": "code",
   "execution_count": 25,
   "id": "bad9ffe0",
   "metadata": {},
   "outputs": [
    {
     "name": "stdout",
     "output_type": "stream",
     "text": [
      "22:00 23:00 23:30\n",
      "0\n"
     ]
    }
   ],
   "source": [
    "from sys import stdin\n",
    "\n",
    "start, end, streaming = map(str, input().split())\n",
    "\n",
    "start = int(\"\".join(start.split(\":\")))\n",
    "end = int(\"\".join(end.split(\":\")))\n",
    "streaming = int(\"\".join(streaming.split(\":\")))\n",
    "\n",
    "chatting = {}\n",
    "\n",
    "count = 0\n",
    "\n",
    "while(True):\n",
    "    line = stdin.readline()\n",
    "    if len(line) < 5: break\n",
    "    t, _id = map(str, line.split())\n",
    "    t = int(\"\".join(t.split(\"\")))\n",
    "    \n",
    "    if t <= start:\n",
    "        chatting[_id] = 1\n",
    "        \n",
    "    elif end <= t <= streaming:\n",
    "        if(chatting.get(_id)) == 1:\n",
    "            chatting[_id] += 1\n",
    "            count+=1   \n",
    "print(count)    \n",
    "    "
   ]
  },
  {
   "cell_type": "code",
   "execution_count": null,
   "id": "4b4de988",
   "metadata": {},
   "outputs": [],
   "source": []
  }
 ],
 "metadata": {
  "kernelspec": {
   "display_name": "Python 3",
   "language": "python",
   "name": "python3"
  },
  "language_info": {
   "codemirror_mode": {
    "name": "ipython",
    "version": 3
   },
   "file_extension": ".py",
   "mimetype": "text/x-python",
   "name": "python",
   "nbconvert_exporter": "python",
   "pygments_lexer": "ipython3",
   "version": "3.8.8"
  }
 },
 "nbformat": 4,
 "nbformat_minor": 5
}
